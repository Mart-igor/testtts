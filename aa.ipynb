{
 "cells": [
  {
   "cell_type": "code",
   "execution_count": 2,
   "metadata": {},
   "outputs": [],
   "source": [
    "import pandas as pd\n",
    "import numpy as np\n",
    "# from prettytable import PrettyTable\n",
    "from typing import List"
   ]
  },
  {
   "cell_type": "code",
   "execution_count": null,
   "metadata": {},
   "outputs": [],
   "source": [
    "def createDataframe(student_data: List[List[int]]) -> pd.DataFrame:\n",
    "    table = pd.DataFrame(student_data, columns = [\"student_id\", \"age\"])\n",
    "    pretty_table = PrettyTable()\n",
    "    pretty_table.field_names = table.columns.tolist()\n",
    "    for row in table.values:\n",
    "        pretty_table.add_row(row)\n",
    "    return pretty_table"
   ]
  },
  {
   "cell_type": "code",
   "execution_count": 47,
   "metadata": {},
   "outputs": [
    {
     "name": "stdout",
     "output_type": "stream",
     "text": [
      "[4, 2]\n"
     ]
    }
   ],
   "source": [
    "a = [[1,15],[2,11],[3,11],[4,20]]\n",
    "b = pd.DataFrame(a, columns = [\"student_id\", \"age\"])\n",
    "print(list(b.shape))"
   ]
  },
  {
   "cell_type": "code",
   "execution_count": 2,
   "metadata": {},
   "outputs": [
    {
     "data": {
      "text/plain": [
       "student_id    102\n",
       "name          Bob\n",
       "age            21\n",
       "Name: 1, dtype: object"
      ]
     },
     "execution_count": 2,
     "metadata": {},
     "output_type": "execute_result"
    }
   ],
   "source": [
    "data = {\n",
    "        'student_id': ['101', '102', '103'],\n",
    "        'name': ['Alice', 'Bob', 'Charlie'],\n",
    "        'age': [20, 21, 22]}\n",
    "students = pd.DataFrame(data)\n",
    "students.loc[students['student_id'] == '101', ['name', 'age']].sort_values()\n",
    "students.iloc[1]"
   ]
  },
  {
   "cell_type": "code",
   "execution_count": 59,
   "metadata": {},
   "outputs": [
    {
     "data": {
      "text/html": [
       "<div>\n",
       "<style scoped>\n",
       "    .dataframe tbody tr th:only-of-type {\n",
       "        vertical-align: middle;\n",
       "    }\n",
       "\n",
       "    .dataframe tbody tr th {\n",
       "        vertical-align: top;\n",
       "    }\n",
       "\n",
       "    .dataframe thead th {\n",
       "        text-align: right;\n",
       "    }\n",
       "</style>\n",
       "<table border=\"1\" class=\"dataframe\">\n",
       "  <thead>\n",
       "    <tr style=\"text-align: right;\">\n",
       "      <th></th>\n",
       "      <th>student_id</th>\n",
       "      <th>name</th>\n",
       "      <th>age</th>\n",
       "    </tr>\n",
       "  </thead>\n",
       "  <tbody>\n",
       "    <tr>\n",
       "      <th>0</th>\n",
       "      <td>101</td>\n",
       "      <td>Alice</td>\n",
       "      <td>20</td>\n",
       "    </tr>\n",
       "  </tbody>\n",
       "</table>\n",
       "</div>"
      ],
      "text/plain": [
       "  student_id   name  age\n",
       "0        101  Alice   20"
      ]
     },
     "execution_count": 59,
     "metadata": {},
     "output_type": "execute_result"
    }
   ],
   "source": [
    "students.query(\"student_id == '101'\")"
   ]
  },
  {
   "cell_type": "code",
   "execution_count": 65,
   "metadata": {},
   "outputs": [
    {
     "data": {
      "text/html": [
       "<div>\n",
       "<style scoped>\n",
       "    .dataframe tbody tr th:only-of-type {\n",
       "        vertical-align: middle;\n",
       "    }\n",
       "\n",
       "    .dataframe tbody tr th {\n",
       "        vertical-align: top;\n",
       "    }\n",
       "\n",
       "    .dataframe thead th {\n",
       "        text-align: right;\n",
       "    }\n",
       "</style>\n",
       "<table border=\"1\" class=\"dataframe\">\n",
       "  <thead>\n",
       "    <tr style=\"text-align: right;\">\n",
       "      <th></th>\n",
       "      <th>student_id</th>\n",
       "      <th>name</th>\n",
       "      <th>age</th>\n",
       "      <th>bonus</th>\n",
       "    </tr>\n",
       "  </thead>\n",
       "  <tbody>\n",
       "    <tr>\n",
       "      <th>0</th>\n",
       "      <td>101</td>\n",
       "      <td>Alice</td>\n",
       "      <td>20</td>\n",
       "      <td>40</td>\n",
       "    </tr>\n",
       "    <tr>\n",
       "      <th>1</th>\n",
       "      <td>102</td>\n",
       "      <td>Bob</td>\n",
       "      <td>21</td>\n",
       "      <td>42</td>\n",
       "    </tr>\n",
       "    <tr>\n",
       "      <th>2</th>\n",
       "      <td>103</td>\n",
       "      <td>Charlie</td>\n",
       "      <td>22</td>\n",
       "      <td>44</td>\n",
       "    </tr>\n",
       "  </tbody>\n",
       "</table>\n",
       "</div>"
      ],
      "text/plain": [
       "  student_id     name  age  bonus\n",
       "0        101    Alice   20     40\n",
       "1        102      Bob   21     42\n",
       "2        103  Charlie   22     44"
      ]
     },
     "execution_count": 65,
     "metadata": {},
     "output_type": "execute_result"
    }
   ],
   "source": [
    "students[\"bonus\"] = students['age'] * 2\n",
    "# students.insert(1, \"bonus\", students[\"age\"]*2 ) возврщает нан\n",
    "# students.drop(columns=[\"фыва\"], inplace=True ) изменяет исзодную\n",
    "students.assign(bonus=students['age'] * 2)"
   ]
  },
  {
   "cell_type": "code",
   "execution_count": 1,
   "metadata": {},
   "outputs": [
    {
     "ename": "NameError",
     "evalue": "name 'pd' is not defined",
     "output_type": "error",
     "traceback": [
      "\u001b[0;31m---------------------------------------------------------------------------\u001b[0m",
      "\u001b[0;31mNameError\u001b[0m                                 Traceback (most recent call last)",
      "Cell \u001b[0;32mIn[1], line 5\u001b[0m\n\u001b[1;32m      1\u001b[0m data \u001b[38;5;241m=\u001b[39m {\n\u001b[1;32m      2\u001b[0m     \u001b[38;5;124m'\u001b[39m\u001b[38;5;124mname\u001b[39m\u001b[38;5;124m'\u001b[39m: [\u001b[38;5;124m'\u001b[39m\u001b[38;5;124mAlice\u001b[39m\u001b[38;5;124m'\u001b[39m, \u001b[38;5;124m'\u001b[39m\u001b[38;5;124mBob\u001b[39m\u001b[38;5;124m'\u001b[39m, \u001b[38;5;124m'\u001b[39m\u001b[38;5;124mAlice\u001b[39m\u001b[38;5;124m'\u001b[39m, \u001b[38;5;124m'\u001b[39m\u001b[38;5;124mCharlie\u001b[39m\u001b[38;5;124m'\u001b[39m, \u001b[38;5;124m'\u001b[39m\u001b[38;5;124mBob\u001b[39m\u001b[38;5;124m'\u001b[39m],\n\u001b[1;32m      3\u001b[0m     \u001b[38;5;124m'\u001b[39m\u001b[38;5;124mage\u001b[39m\u001b[38;5;124m'\u001b[39m: [\u001b[38;5;241m25\u001b[39m, \u001b[38;5;241m30\u001b[39m, \u001b[38;5;241m25\u001b[39m, \u001b[38;5;241m35\u001b[39m, \u001b[38;5;241m30\u001b[39m]\n\u001b[1;32m      4\u001b[0m }\n\u001b[0;32m----> 5\u001b[0m df \u001b[38;5;241m=\u001b[39m \u001b[43mpd\u001b[49m\u001b[38;5;241m.\u001b[39mDataFrame(data)\n\u001b[1;32m      6\u001b[0m df_unique \u001b[38;5;241m=\u001b[39m df\u001b[38;5;241m.\u001b[39mdrop_duplicates(subset\u001b[38;5;241m=\u001b[39m\u001b[38;5;124m'\u001b[39m\u001b[38;5;124mname\u001b[39m\u001b[38;5;124m'\u001b[39m)\n\u001b[1;32m      7\u001b[0m df_grouped \u001b[38;5;241m=\u001b[39m df\u001b[38;5;241m.\u001b[39mgroupby(\u001b[38;5;124m'\u001b[39m\u001b[38;5;124mname\u001b[39m\u001b[38;5;124m'\u001b[39m)\u001b[38;5;241m.\u001b[39mfirst()\u001b[38;5;241m.\u001b[39mreset_index()\n",
      "\u001b[0;31mNameError\u001b[0m: name 'pd' is not defined"
     ]
    }
   ],
   "source": [
    "data = {\n",
    "    'name': ['Alice', 'Bob', 'Alice', 'Charlie', 'Bob'],\n",
    "    'age': [25, 30, 25, 35, 30]\n",
    "}\n",
    "df = pd.DataFrame(data)\n",
    "df_unique = df.drop_duplicates(subset='name')\n",
    "df_grouped = df.groupby('name').first().reset_index()\n",
    "df_no_duplicates = df[~df['name'].duplicated()]\n"
   ]
  },
  {
   "cell_type": "code",
   "execution_count": null,
   "metadata": {},
   "outputs": [],
   "source": [
    "df_dropped = df.drop(index=1)\n",
    "df_filtered = df[df['name'] != 'Bob']\n",
    "df_query = df.query(\"name != 'Bob'\")\n",
    "df_replaced = df.replace({'name': 'Bob'}, np.nan)\n",
    "df_unique = df[df['name'] == 'Alice'].drop_duplicates()\n"
   ]
  },
  {
   "cell_type": "code",
   "execution_count": null,
   "metadata": {},
   "outputs": [],
   "source": [
    "df_dropped = df.dropna()\n",
    "df_dropped_name = df.dropna(subset=['name'])\n",
    "df_dropped_columns = df.dropna(axis=1)\n",
    "df_thresh = df.dropna(thresh=2)\n",
    "df_filtered = df[~(df['age'].isna() & df['name'].notna())]\n"
   ]
  },
  {
   "cell_type": "code",
   "execution_count": null,
   "metadata": {},
   "outputs": [],
   "source": [
    "df_renamed = df.rename(columns={'name': 'full_name', 'age': 'years'})\n",
    "df.columns = ['full_name', 'years']\n",
    "df = df.set_axis(['full_name', 'years'], axis=1, inplace=False)\n",
    "# Если вы хотите добавить префикс или суффикс ко всем именам столбцов, \n",
    "# вы можете использовать методы add_prefix() и add_suffix().\n",
    "df_suffixed = df.add_suffix('_data')\n"
   ]
  },
  {
   "cell_type": "code",
   "execution_count": null,
   "metadata": {},
   "outputs": [],
   "source": [
    "students = students.assign(grade=pd.to_numeric(students['grade'], errors='coerce'))\n",
    "students.convert_dtypes()\n",
    "students['grade'] = students['grade'].astype('Int64')"
   ]
  },
  {
   "cell_type": "code",
   "execution_count": 73,
   "metadata": {},
   "outputs": [],
   "source": [
    "# замена пустых значений в столбце 'grade' на 0\n",
    "students['grade'] = students['grade'].fillna(0)\n",
    "students = students.fillna({'grade': 0, 'age': students['age'].mean()})\n"
   ]
  },
  {
   "cell_type": "code",
   "execution_count": null,
   "metadata": {},
   "outputs": [],
   "source": [
    "# Конкатенация по строкам\n",
    "result = pd.concat([df1, df2], ignore_index=True)\n",
    "# Конкатенация по столбцам\n",
    "result = pd.concat([df1, df2], axis=1)"
   ]
  },
  {
   "cell_type": "code",
   "execution_count": null,
   "metadata": {},
   "outputs": [
    {
     "name": "stdout",
     "output_type": "stream",
     "text": [
      "Исходный DataFrame:\n",
      "     Месяц         Город  Температура\n",
      "0   Январь      Нью-Йорк           30\n",
      "1   Январь  Лос-Анджелес           60\n",
      "2  Февраль      Нью-Йорк           32\n",
      "3  Февраль  Лос-Анджелес           65\n",
      "4     Март      Нью-Йорк           45\n",
      "5     Март  Лос-Анджелес           68\n"
     ]
    }
   ],
   "source": [
    "data = {\n",
    "    'Месяц': ['Январь', 'Январь', 'Февраль', 'Февраль', 'Март', 'Март'],\n",
    "    'Город': ['Нью-Йорк', 'Лос-Анджелес', 'Нью-Йорк', 'Лос-Анджелес', 'Нью-Йорк', 'Лос-Анджелес'],\n",
    "    'Температура': [30, 60, 32, 65, 45, 68]\n",
    "}\n",
    "df = pd.DataFrame(data)\n",
    "print(df)"
   ]
  },
  {
   "cell_type": "code",
   "execution_count": 5,
   "metadata": {},
   "outputs": [
    {
     "name": "stdout",
     "output_type": "stream",
     "text": [
      "\n",
      "Преобразованный DataFrame:\n",
      "Город    Лос-Анджелес  Нью-Йорк\n",
      "Месяц                          \n",
      "Март               68        45\n",
      "Февраль            65        32\n",
      "Январь             60        30\n"
     ]
    }
   ],
   "source": [
    "pivoted_df = df.pivot(index='Месяц', columns='Город', values='Температура')\n",
    "print(pivoted_df)"
   ]
  },
  {
   "cell_type": "code",
   "execution_count": 7,
   "metadata": {},
   "outputs": [
    {
     "name": "stdout",
     "output_type": "stream",
     "text": [
      "       product  quarter_1  quarter_2  quarter_3  quarter_4\n",
      "0     Umbrella        417        224        379        611\n",
      "1  SleepingBag        800        936         93        875\n",
      "       product    quarter  sales\n",
      "0     Umbrella  quarter_1    417\n",
      "1  SleepingBag  quarter_1    800\n",
      "2     Umbrella  quarter_2    224\n",
      "3  SleepingBag  quarter_2    936\n",
      "4     Umbrella  quarter_3    379\n",
      "5  SleepingBag  quarter_3     93\n",
      "6     Umbrella  quarter_4    611\n",
      "7  SleepingBag  quarter_4    875\n"
     ]
    }
   ],
   "source": [
    "data = {\n",
    "    'product': ['Umbrella', 'SleepingBag'],\n",
    "    'quarter_1': [417, 800],\n",
    "    'quarter_2': [224, 936],\n",
    "    'quarter_3': [379, 93],\n",
    "    'quarter_4': [611, 875]\n",
    "}\n",
    "\n",
    "df = pd.DataFrame(data)\n",
    "reshaped_df = df.melt(id_vars=['product'], var_name='quarter', value_name='sales')\n",
    "print(df)\n",
    "\n",
    "print(reshaped_df)\n"
   ]
  },
  {
   "cell_type": "code",
   "execution_count": null,
   "metadata": {},
   "outputs": [],
   "source": []
  },
  {
   "cell_type": "code",
   "execution_count": null,
   "metadata": {},
   "outputs": [],
   "source": [
    "def findHeavyAnimals(animals: pd.DataFrame) -> pd.DataFrame:\n",
    "    sorted_heavy_animals = animals.sort_values(by='weight', ascending=False)\n",
    "    a = sorted_heavy_animals.loc[animals['weight'] > 100, 'name']\n",
    "    result_df = pd.DataFrame(a).reset_index(drop=True)\n",
    "    return result_df"
   ]
  },
  {
   "cell_type": "code",
   "execution_count": null,
   "metadata": {},
   "outputs": [],
   "source": [
    "def findHeavyAnimals(animals: pd.DataFrame) -> pd.DataFrame:\n",
    "    heavy_animals = animals[animals['weight'] > 100]\n",
    "    sorted_heavy_animals = heavy_animals.sort_values(by='weight', ascending=False)\n",
    "    result_df = sorted_heavy_animals[['name']].reset_index(drop=True)\n",
    "    \n",
    "    return result_df"
   ]
  },
  {
   "cell_type": "code",
   "execution_count": null,
   "metadata": {},
   "outputs": [],
   "source": [
    "def big_countries(world: pd.DataFrame) -> pd.DataFrame:\n",
    "    filtered_countries = world.loc[\n",
    "        (world['area'] >= 3000000) & | (world['population'] >= 25000000),\n",
    "        ['name', 'population', 'area']\n",
    "    ]\n",
    "    return filtered_countries"
   ]
  },
  {
   "cell_type": "code",
   "execution_count": null,
   "metadata": {},
   "outputs": [],
   "source": [
    "def find_customers(customers: pd.DataFrame, orders: pd.DataFrame) -> pd.DataFrame:\n",
    "    customer_ids_with_orders = orders['customerId'].unique()\n",
    "    a = customers[~customers['id'].isin(customer_ids_with_orders)]\n",
    "    return pd.DataFrame(a['name'].rename('Customers'))"
   ]
  },
  {
   "cell_type": "code",
   "execution_count": null,
   "metadata": {},
   "outputs": [],
   "source": [
    "\n",
    "def article_views(views: pd.DataFrame) -> pd.DataFrame:\n",
    "    a = views.loc[views['author_id'] == views['viewer_id'], 'author_id'].rename('id')\n",
    "    return a.to_frame().sort_values(by='id', ascending=True).drop_duplicates(subset='id')"
   ]
  },
  {
   "cell_type": "code",
   "execution_count": null,
   "metadata": {},
   "outputs": [],
   "source": [
    "\n",
    "def invalid_tweets(tweets: pd.DataFrame) -> pd.DataFrame:\n",
    "    return tweets.loc[tweets['content'].apply(lambda x: len(x) > 15), ['tweet_id']]"
   ]
  },
  {
   "cell_type": "code",
   "execution_count": null,
   "metadata": {},
   "outputs": [],
   "source": [
    "def calculate_special_bonus(employees: pd.DataFrame) -> pd.DataFrame:\n",
    "    cond = (employees['employee_id'] %2 != 0) & (~employees['name'].str.startswith('M'))\n",
    "    employees['bonus'] = employees['salary'].where(cond, 0)\n",
    "    return employees[['employee_id', 'bonus']].sort_values(by='employee_id', ascending=True)"
   ]
  },
  {
   "cell_type": "code",
   "execution_count": null,
   "metadata": {},
   "outputs": [
    {
     "data": {
      "text/plain": [
       "'Asdf asf asdf'"
      ]
     },
     "execution_count": 2,
     "metadata": {},
     "output_type": "execute_result"
    }
   ],
   "source": [
    "def fix_names(users: pd.DataFrame) -> pd.DataFrame:\n",
    "    users['name'] = users['name'].apply(lambda x: x.capitalize())\n",
    "    return users.sort_values(by='user_id', ascending=True)"
   ]
  },
  {
   "cell_type": "markdown",
   "metadata": {},
   "source": [
    "#REgula set"
   ]
  },
  {
   "cell_type": "code",
   "execution_count": 3,
   "metadata": {},
   "outputs": [],
   "source": [
    "def valid_emails(users: pd.DataFrame) -> pd.DataFrame:\n",
    "    pattern = r'^[a-zA-Z][a-zA-Z0-9._-]*@leetcode\\.com$'\n",
    "    users_v = users[users['mail'].apply(lambda x: re.match(pattern, x) is not None)]\n",
    "    return users_v"
   ]
  },
  {
   "cell_type": "code",
   "execution_count": null,
   "metadata": {},
   "outputs": [],
   "source": []
  },
  {
   "cell_type": "markdown",
   "metadata": {},
   "source": []
  },
  {
   "cell_type": "code",
   "execution_count": null,
   "metadata": {},
   "outputs": [],
   "source": [
    "def find_patients(patients: pd.DataFrame) -> pd.DataFrame:\n",
    "    pattern =  r'(^|\\s)DIAB1'\n",
    "    patients_v = patients[patients['conditions'].apply(lambda x: re.search(pattern, x) is not None)]\n",
    "    return patients_v"
   ]
  }
 ],
 "metadata": {
  "kernelspec": {
   "display_name": "tvenv",
   "language": "python",
   "name": "python3"
  },
  "language_info": {
   "codemirror_mode": {
    "name": "ipython",
    "version": 3
   },
   "file_extension": ".py",
   "mimetype": "text/x-python",
   "name": "python",
   "nbconvert_exporter": "python",
   "pygments_lexer": "ipython3",
   "version": "3.9.1"
  }
 },
 "nbformat": 4,
 "nbformat_minor": 2
}
